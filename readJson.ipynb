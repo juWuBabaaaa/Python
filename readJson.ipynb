{
 "cells": [
  {
   "cell_type": "code",
   "execution_count": 1,
   "metadata": {},
   "outputs": [],
   "source": [
    "import json\n",
    "import os\n",
    "import beeprint"
   ]
  },
  {
   "cell_type": "code",
   "execution_count": 2,
   "metadata": {},
   "outputs": [],
   "source": [
    "# calibrated_sensor.json         category.json                  sample_annotation.json         instance.json                  \n",
    "# map.json                       sample_data.json               sensor.json                    attribute.json                 \n",
    "# sample.json                    scene.json                     ego_pose.json                  log.json    \n"
   ]
  },
  {
   "cell_type": "code",
   "execution_count": 3,
   "metadata": {},
   "outputs": [],
   "source": [
    "def loadjson(fn):\n",
    "    path = \"/home/wsx/pointcloud_research/data/nuscenes/v1.0-trainval\"\n",
    "    fp = os.path.join(path, fn)\n",
    "    f = open(fp)\n",
    "    ff = json.load(f)\n",
    "    f.close()\n",
    "    return ff"
   ]
  },
  {
   "cell_type": "code",
   "execution_count": 4,
   "metadata": {},
   "outputs": [],
   "source": [
    "scene = loadjson(\"scene.json\")"
   ]
  },
  {
   "cell_type": "code",
   "execution_count": 5,
   "metadata": {},
   "outputs": [
    {
     "data": {
      "text/plain": [
       "{'token': '73030fb67d3c46cfb5e590168088ae39',\n",
       " 'log_token': '6b6513e6c8384cec88775cae30b78c0e',\n",
       " 'nbr_samples': 40,\n",
       " 'first_sample_token': 'e93e98b63d3b40209056d129dc53ceee',\n",
       " 'last_sample_token': '40e413c922184255a94f08d3c10037e0',\n",
       " 'name': 'scene-0001',\n",
       " 'description': 'Construction, maneuver between several trucks'}"
      ]
     },
     "execution_count": 5,
     "metadata": {},
     "output_type": "execute_result"
    }
   ],
   "source": [
    "scene[0]"
   ]
  },
  {
   "cell_type": "code",
   "execution_count": 6,
   "metadata": {},
   "outputs": [],
   "source": [
    "sample = loadjson(\"sample.json\")"
   ]
  },
  {
   "cell_type": "code",
   "execution_count": 7,
   "metadata": {},
   "outputs": [
    {
     "data": {
      "text/plain": [
       "{'token': 'e93e98b63d3b40209056d129dc53ceee',\n",
       " 'timestamp': 1531883530449377,\n",
       " 'prev': '',\n",
       " 'next': '14d5adfe50bb4445bc3aa5fe607691a8',\n",
       " 'scene_token': '73030fb67d3c46cfb5e590168088ae39'}"
      ]
     },
     "execution_count": 7,
     "metadata": {},
     "output_type": "execute_result"
    }
   ],
   "source": [
    "sample[0]"
   ]
  },
  {
   "cell_type": "code",
   "execution_count": 14,
   "metadata": {},
   "outputs": [
    {
     "data": {
      "text/plain": [
       "{'token': '14d5adfe50bb4445bc3aa5fe607691a8',\n",
       " 'timestamp': 1531883530949817,\n",
       " 'prev': 'e93e98b63d3b40209056d129dc53ceee',\n",
       " 'next': 'ae4e0c3aa3f24c91aab599e8b54e9264',\n",
       " 'scene_token': '73030fb67d3c46cfb5e590168088ae39'}"
      ]
     },
     "execution_count": 14,
     "metadata": {},
     "output_type": "execute_result"
    }
   ],
   "source": [
    "sample[1]"
   ]
  },
  {
   "cell_type": "code",
   "execution_count": 8,
   "metadata": {},
   "outputs": [],
   "source": [
    "sample_data = loadjson(\"sample_data.json\")"
   ]
  },
  {
   "cell_type": "code",
   "execution_count": 9,
   "metadata": {},
   "outputs": [
    {
     "data": {
      "text/plain": [
       "{'token': 'bddd80ae33ec4e32b27fdb3c1160a30e',\n",
       " 'sample_token': 'e93e98b63d3b40209056d129dc53ceee',\n",
       " 'ego_pose_token': 'bddd80ae33ec4e32b27fdb3c1160a30e',\n",
       " 'calibrated_sensor_token': '7781065816974801afc4dcdaf6acf92c',\n",
       " 'timestamp': 1531883530440378,\n",
       " 'fileformat': 'pcd',\n",
       " 'is_key_frame': True,\n",
       " 'height': 0,\n",
       " 'width': 0,\n",
       " 'filename': 'samples/RADAR_FRONT/n015-2018-07-18-11-07-57+0800__RADAR_FRONT__1531883530440378.pcd',\n",
       " 'prev': '',\n",
       " 'next': '90df03ad4710427aabb5f88fe049df2e'}"
      ]
     },
     "execution_count": 9,
     "metadata": {},
     "output_type": "execute_result"
    }
   ],
   "source": [
    "sample_data[0]"
   ]
  },
  {
   "cell_type": "code",
   "execution_count": 10,
   "metadata": {},
   "outputs": [
    {
     "data": {
      "text/plain": [
       "{'token': '90df03ad4710427aabb5f88fe049df2e',\n",
       " 'sample_token': '14d5adfe50bb4445bc3aa5fe607691a8',\n",
       " 'ego_pose_token': '90df03ad4710427aabb5f88fe049df2e',\n",
       " 'calibrated_sensor_token': '7781065816974801afc4dcdaf6acf92c',\n",
       " 'timestamp': 1531883530510442,\n",
       " 'fileformat': 'pcd',\n",
       " 'is_key_frame': False,\n",
       " 'height': 0,\n",
       " 'width': 0,\n",
       " 'filename': 'sweeps/RADAR_FRONT/n015-2018-07-18-11-07-57+0800__RADAR_FRONT__1531883530510442.pcd',\n",
       " 'prev': 'bddd80ae33ec4e32b27fdb3c1160a30e',\n",
       " 'next': '28e6129458c745dbbcbdbb3329e91575'}"
      ]
     },
     "execution_count": 10,
     "metadata": {},
     "output_type": "execute_result"
    }
   ],
   "source": [
    "sample_data[1]"
   ]
  },
  {
   "cell_type": "code",
   "execution_count": 11,
   "metadata": {},
   "outputs": [],
   "source": [
    "log = loadjson(\"log.json\")"
   ]
  },
  {
   "cell_type": "code",
   "execution_count": 12,
   "metadata": {},
   "outputs": [
    {
     "data": {
      "text/plain": [
       "{'token': '6b6513e6c8384cec88775cae30b78c0e',\n",
       " 'logfile': 'n015-2018-07-18-11-07-57+0800',\n",
       " 'vehicle': 'n015',\n",
       " 'date_captured': '2018-07-18',\n",
       " 'location': 'singapore-onenorth'}"
      ]
     },
     "execution_count": 12,
     "metadata": {},
     "output_type": "execute_result"
    }
   ],
   "source": [
    "log[0]"
   ]
  },
  {
   "cell_type": "code",
   "execution_count": 13,
   "metadata": {},
   "outputs": [
    {
     "data": {
      "text/plain": [
       "{'token': '73030fb67d3c46cfb5e590168088ae39',\n",
       " 'log_token': '6b6513e6c8384cec88775cae30b78c0e',\n",
       " 'nbr_samples': 40,\n",
       " 'first_sample_token': 'e93e98b63d3b40209056d129dc53ceee',\n",
       " 'last_sample_token': '40e413c922184255a94f08d3c10037e0',\n",
       " 'name': 'scene-0001',\n",
       " 'description': 'Construction, maneuver between several trucks'}"
      ]
     },
     "execution_count": 13,
     "metadata": {},
     "output_type": "execute_result"
    }
   ],
   "source": [
    "scene[0]"
   ]
  },
  {
   "cell_type": "code",
   "execution_count": null,
   "metadata": {},
   "outputs": [],
   "source": [
    "s = scene[0][\"first_sample_token\"]\n",
    "e = scene[0][\"last_sample_token\"]\n",
    "tmp = []\n",
    "for item in sample:\n",
    "    if item[\"sample_token\"] is s:\n",
    "        tmp.append(item[\"filename\"])\n",
    "        "
   ]
  }
 ],
 "metadata": {
  "kernelspec": {
   "display_name": "det3d",
   "language": "python",
   "name": "python3"
  },
  "language_info": {
   "codemirror_mode": {
    "name": "ipython",
    "version": 3
   },
   "file_extension": ".py",
   "mimetype": "text/x-python",
   "name": "python",
   "nbconvert_exporter": "python",
   "pygments_lexer": "ipython3",
   "version": "3.8.18"
  },
  "orig_nbformat": 4
 },
 "nbformat": 4,
 "nbformat_minor": 2
}
