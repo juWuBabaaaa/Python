{
 "cells": [
  {
   "cell_type": "code",
   "execution_count": 2,
   "metadata": {},
   "outputs": [],
   "source": [
    "import os\n",
    "import json\n",
    "from utils.tools import load"
   ]
  },
  {
   "cell_type": "code",
   "execution_count": 3,
   "metadata": {},
   "outputs": [],
   "source": [
    "# calibrated_sensor.json         category.json                  sample_annotation.json         instance.json                  \n",
    "# map.json                       sample_data.json               sensor.json                    attribute.json                 \n",
    "# sample.json                    scene.json                     ego_pose.json                  log.json    \n"
   ]
  },
  {
   "cell_type": "code",
   "execution_count": 4,
   "metadata": {},
   "outputs": [],
   "source": [
    "path = \"/home/wsx/pointcloud_research/data/nuscenes/v1.0-trainval\"\n",
    "path2 = \"tmp/\""
   ]
  },
  {
   "cell_type": "code",
   "execution_count": 5,
   "metadata": {},
   "outputs": [],
   "source": [
    "conts = os.listdir(path)\n",
    "index = {}\n",
    "file = {}\n",
    "for c in conts:\n",
    "    chara = c.split(\".\")[0]\n",
    "    if c == \"sample.json\":\n",
    "        p = path2\n",
    "        c = \"sample_origin.json\"\n",
    "    else:\n",
    "        p = path\n",
    "    l = load(p, c)\n",
    "    index[chara] = list(l[0].keys())\n",
    "    file[chara] = l\n"
   ]
  },
  {
   "cell_type": "code",
   "execution_count": 11,
   "metadata": {},
   "outputs": [],
   "source": [
    "with open(\"graph.txt\", 'w') as g:\n",
    "    conts = os.listdir(path)\n",
    "\n",
    "    for c in conts:\n",
    "        l = load(c)\n",
    "        name = c.split(\".\")[0]\n",
    "        g.write(f\"{name}\\n\")\n",
    "        for k in l[0].keys():\n",
    "            g.write(f\"{name} -- {k}\\n\")\n",
    "        g.write(\"\\n\")"
   ]
  },
  {
   "cell_type": "code",
   "execution_count": 19,
   "metadata": {},
   "outputs": [
    {
     "data": {
      "text/plain": [
       "{'calibrated_sensor': ['token',\n",
       "  'sensor_token',\n",
       "  'translation',\n",
       "  'rotation',\n",
       "  'camera_intrinsic'],\n",
       " 'category': ['token', 'name', 'description'],\n",
       " 'sample_annotation': ['token',\n",
       "  'sample_token',\n",
       "  'instance_token',\n",
       "  'visibility_token',\n",
       "  'attribute_tokens',\n",
       "  'translation',\n",
       "  'size',\n",
       "  'rotation',\n",
       "  'prev',\n",
       "  'next',\n",
       "  'num_lidar_pts',\n",
       "  'num_radar_pts'],\n",
       " 'instance': ['token',\n",
       "  'category_token',\n",
       "  'nbr_annotations',\n",
       "  'first_annotation_token',\n",
       "  'last_annotation_token'],\n",
       " 'map': ['category', 'token', 'filename', 'log_tokens'],\n",
       " 'sample_data': ['token',\n",
       "  'sample_token',\n",
       "  'ego_pose_token',\n",
       "  'calibrated_sensor_token',\n",
       "  'timestamp',\n",
       "  'fileformat',\n",
       "  'is_key_frame',\n",
       "  'height',\n",
       "  'width',\n",
       "  'filename',\n",
       "  'prev',\n",
       "  'next'],\n",
       " 'sensor': ['token', 'channel', 'modality'],\n",
       " 'attribute': ['token', 'name', 'description'],\n",
       " 'sample': ['token', 'timestamp', 'prev', 'next', 'scene_token'],\n",
       " 'scene': ['token',\n",
       "  'log_token',\n",
       "  'nbr_samples',\n",
       "  'first_sample_token',\n",
       "  'last_sample_token',\n",
       "  'name',\n",
       "  'description'],\n",
       " 'ego_pose': ['token', 'timestamp', 'rotation', 'translation'],\n",
       " 'log': ['token', 'logfile', 'vehicle', 'date_captured', 'location'],\n",
       " 'visibility': ['description', 'token', 'level']}"
      ]
     },
     "execution_count": 19,
     "metadata": {},
     "output_type": "execute_result"
    }
   ],
   "source": [
    "index"
   ]
  },
  {
   "cell_type": "code",
   "execution_count": 6,
   "metadata": {},
   "outputs": [
    {
     "name": "stdout",
     "output_type": "stream",
     "text": [
      "calibrated_sensor ['token', 'sensor_token', 'translation', 'rotation', 'camera_intrinsic']\n",
      "category ['token', 'name', 'description']\n",
      "sample_annotation ['token', 'sample_token', 'instance_token', 'visibility_token', 'attribute_tokens', 'translation', 'size', 'rotation', 'prev', 'next', 'num_lidar_pts', 'num_radar_pts']\n",
      "instance ['token', 'category_token', 'nbr_annotations', 'first_annotation_token', 'last_annotation_token']\n",
      "map ['category', 'token', 'filename', 'log_tokens']\n",
      "sample_data ['token', 'sample_token', 'ego_pose_token', 'calibrated_sensor_token', 'timestamp', 'fileformat', 'is_key_frame', 'height', 'width', 'filename', 'prev', 'next']\n",
      "sensor ['token', 'channel', 'modality']\n",
      "attribute ['token', 'name', 'description']\n",
      "sample ['token', 'timestamp', 'prev', 'next', 'scene_token']\n",
      "scene ['token', 'log_token', 'nbr_samples', 'first_sample_token', 'last_sample_token', 'name', 'description']\n",
      "ego_pose ['token', 'timestamp', 'rotation', 'translation']\n",
      "log ['token', 'logfile', 'vehicle', 'date_captured', 'location']\n",
      "visibility ['description', 'token', 'level']\n"
     ]
    }
   ],
   "source": [
    "for i, j in index.items():\n",
    "    print(i, j)"
   ]
  },
  {
   "cell_type": "code",
   "execution_count": 7,
   "metadata": {},
   "outputs": [],
   "source": [
    "import pandas as pd"
   ]
  },
  {
   "cell_type": "code",
   "execution_count": 8,
   "metadata": {},
   "outputs": [],
   "source": [
    "table = {}\n",
    "for i, j in index.items():\n",
    "    table[i] = {}\n",
    "    for k in j:\n",
    "        for _ in k.split(\"_\"):\n",
    "            if _ == \"token\":\n",
    "                tmp = [a[k] for a in file[i]]\n",
    "                count = len(tmp)\n",
    "                count2 = len(set(tmp))\n",
    "                table[i][k] = (count, count2)\n",
    "        "
   ]
  },
  {
   "cell_type": "code",
   "execution_count": 9,
   "metadata": {},
   "outputs": [
    {
     "data": {
      "text/plain": [
       "{'calibrated_sensor': {'token': (10200, 10200), 'sensor_token': (10200, 12)},\n",
       " 'category': {'token': (23, 23)},\n",
       " 'sample_annotation': {'token': (1166187, 1166187),\n",
       "  'sample_token': (1166187, 34140),\n",
       "  'instance_token': (1166187, 64386),\n",
       "  'visibility_token': (1166187, 4)},\n",
       " 'instance': {'token': (64386, 64386),\n",
       "  'category_token': (64386, 23),\n",
       "  'first_annotation_token': (64386, 64386),\n",
       "  'last_annotation_token': (64386, 64386)},\n",
       " 'map': {'token': (4, 4)},\n",
       " 'sample_data': {'token': (2631083, 2631083),\n",
       "  'sample_token': (2631083, 34149),\n",
       "  'ego_pose_token': (2631083, 2631083),\n",
       "  'calibrated_sensor_token': (2631083, 10200)},\n",
       " 'sensor': {'token': (12, 12)},\n",
       " 'attribute': {'token': (8, 8)},\n",
       " 'sample': {'token': (34149, 34149), 'scene_token': (34149, 850)},\n",
       " 'scene': {'token': (850, 850),\n",
       "  'log_token': (850, 68),\n",
       "  'first_sample_token': (850, 850),\n",
       "  'last_sample_token': (850, 850)},\n",
       " 'ego_pose': {'token': (2631083, 2631083)},\n",
       " 'log': {'token': (68, 68)},\n",
       " 'visibility': {'token': (4, 4)}}"
      ]
     },
     "execution_count": 9,
     "metadata": {},
     "output_type": "execute_result"
    }
   ],
   "source": [
    "table"
   ]
  },
  {
   "cell_type": "code",
   "execution_count": 10,
   "metadata": {},
   "outputs": [],
   "source": [
    "df = pd.DataFrame(table)"
   ]
  },
  {
   "cell_type": "code",
   "execution_count": 11,
   "metadata": {},
   "outputs": [
    {
     "data": {
      "text/plain": [
       "{'calibrated_sensor': {'token': (10200, 10200), 'sensor_token': (10200, 12)},\n",
       " 'category': {'token': (23, 23)},\n",
       " 'sample_annotation': {'token': (1166187, 1166187),\n",
       "  'sample_token': (1166187, 34140),\n",
       "  'instance_token': (1166187, 64386),\n",
       "  'visibility_token': (1166187, 4)},\n",
       " 'instance': {'token': (64386, 64386),\n",
       "  'category_token': (64386, 23),\n",
       "  'first_annotation_token': (64386, 64386),\n",
       "  'last_annotation_token': (64386, 64386)},\n",
       " 'map': {'token': (4, 4)},\n",
       " 'sample_data': {'token': (2631083, 2631083),\n",
       "  'sample_token': (2631083, 34149),\n",
       "  'ego_pose_token': (2631083, 2631083),\n",
       "  'calibrated_sensor_token': (2631083, 10200)},\n",
       " 'sensor': {'token': (12, 12)},\n",
       " 'attribute': {'token': (8, 8)},\n",
       " 'sample': {'token': (34149, 34149), 'scene_token': (34149, 850)},\n",
       " 'scene': {'token': (850, 850),\n",
       "  'log_token': (850, 68),\n",
       "  'first_sample_token': (850, 850),\n",
       "  'last_sample_token': (850, 850)},\n",
       " 'ego_pose': {'token': (2631083, 2631083)},\n",
       " 'log': {'token': (68, 68)},\n",
       " 'visibility': {'token': (4, 4)}}"
      ]
     },
     "execution_count": 11,
     "metadata": {},
     "output_type": "execute_result"
    }
   ],
   "source": [
    "table"
   ]
  },
  {
   "cell_type": "code",
   "execution_count": 12,
   "metadata": {},
   "outputs": [],
   "source": [
    "reform = {(outerKey, innerKey): values for outerKey, innerDict in table.items() for innerKey, values in innerDict.items()}"
   ]
  },
  {
   "cell_type": "code",
   "execution_count": 13,
   "metadata": {},
   "outputs": [
    {
     "data": {
      "text/plain": [
       "{('calibrated_sensor', 'token'): (10200, 10200),\n",
       " ('calibrated_sensor', 'sensor_token'): (10200, 12),\n",
       " ('category', 'token'): (23, 23),\n",
       " ('sample_annotation', 'token'): (1166187, 1166187),\n",
       " ('sample_annotation', 'sample_token'): (1166187, 34140),\n",
       " ('sample_annotation', 'instance_token'): (1166187, 64386),\n",
       " ('sample_annotation', 'visibility_token'): (1166187, 4),\n",
       " ('instance', 'token'): (64386, 64386),\n",
       " ('instance', 'category_token'): (64386, 23),\n",
       " ('instance', 'first_annotation_token'): (64386, 64386),\n",
       " ('instance', 'last_annotation_token'): (64386, 64386),\n",
       " ('map', 'token'): (4, 4),\n",
       " ('sample_data', 'token'): (2631083, 2631083),\n",
       " ('sample_data', 'sample_token'): (2631083, 34149),\n",
       " ('sample_data', 'ego_pose_token'): (2631083, 2631083),\n",
       " ('sample_data', 'calibrated_sensor_token'): (2631083, 10200),\n",
       " ('sensor', 'token'): (12, 12),\n",
       " ('attribute', 'token'): (8, 8),\n",
       " ('sample', 'token'): (34149, 34149),\n",
       " ('sample', 'scene_token'): (34149, 850),\n",
       " ('scene', 'token'): (850, 850),\n",
       " ('scene', 'log_token'): (850, 68),\n",
       " ('scene', 'first_sample_token'): (850, 850),\n",
       " ('scene', 'last_sample_token'): (850, 850),\n",
       " ('ego_pose', 'token'): (2631083, 2631083),\n",
       " ('log', 'token'): (68, 68),\n",
       " ('visibility', 'token'): (4, 4)}"
      ]
     },
     "execution_count": 13,
     "metadata": {},
     "output_type": "execute_result"
    }
   ],
   "source": [
    "reform"
   ]
  },
  {
   "cell_type": "code",
   "execution_count": 14,
   "metadata": {},
   "outputs": [],
   "source": [
    "df = pd.DataFrame(reform).T"
   ]
  },
  {
   "cell_type": "code",
   "execution_count": 15,
   "metadata": {},
   "outputs": [],
   "source": [
    "df.columns = [\"num\", \"unique_num\"]"
   ]
  },
  {
   "cell_type": "code",
   "execution_count": 16,
   "metadata": {},
   "outputs": [
    {
     "data": {
      "text/html": [
       "<div>\n",
       "<style scoped>\n",
       "    .dataframe tbody tr th:only-of-type {\n",
       "        vertical-align: middle;\n",
       "    }\n",
       "\n",
       "    .dataframe tbody tr th {\n",
       "        vertical-align: top;\n",
       "    }\n",
       "\n",
       "    .dataframe thead th {\n",
       "        text-align: right;\n",
       "    }\n",
       "</style>\n",
       "<table border=\"1\" class=\"dataframe\">\n",
       "  <thead>\n",
       "    <tr style=\"text-align: right;\">\n",
       "      <th></th>\n",
       "      <th></th>\n",
       "      <th>num</th>\n",
       "      <th>unique_num</th>\n",
       "    </tr>\n",
       "  </thead>\n",
       "  <tbody>\n",
       "    <tr>\n",
       "      <th rowspan=\"2\" valign=\"top\">calibrated_sensor</th>\n",
       "      <th>token</th>\n",
       "      <td>10200</td>\n",
       "      <td>10200</td>\n",
       "    </tr>\n",
       "    <tr>\n",
       "      <th>sensor_token</th>\n",
       "      <td>10200</td>\n",
       "      <td>12</td>\n",
       "    </tr>\n",
       "    <tr>\n",
       "      <th>category</th>\n",
       "      <th>token</th>\n",
       "      <td>23</td>\n",
       "      <td>23</td>\n",
       "    </tr>\n",
       "    <tr>\n",
       "      <th rowspan=\"4\" valign=\"top\">sample_annotation</th>\n",
       "      <th>token</th>\n",
       "      <td>1166187</td>\n",
       "      <td>1166187</td>\n",
       "    </tr>\n",
       "    <tr>\n",
       "      <th>sample_token</th>\n",
       "      <td>1166187</td>\n",
       "      <td>34140</td>\n",
       "    </tr>\n",
       "    <tr>\n",
       "      <th>instance_token</th>\n",
       "      <td>1166187</td>\n",
       "      <td>64386</td>\n",
       "    </tr>\n",
       "    <tr>\n",
       "      <th>visibility_token</th>\n",
       "      <td>1166187</td>\n",
       "      <td>4</td>\n",
       "    </tr>\n",
       "    <tr>\n",
       "      <th rowspan=\"4\" valign=\"top\">instance</th>\n",
       "      <th>token</th>\n",
       "      <td>64386</td>\n",
       "      <td>64386</td>\n",
       "    </tr>\n",
       "    <tr>\n",
       "      <th>category_token</th>\n",
       "      <td>64386</td>\n",
       "      <td>23</td>\n",
       "    </tr>\n",
       "    <tr>\n",
       "      <th>first_annotation_token</th>\n",
       "      <td>64386</td>\n",
       "      <td>64386</td>\n",
       "    </tr>\n",
       "    <tr>\n",
       "      <th>last_annotation_token</th>\n",
       "      <td>64386</td>\n",
       "      <td>64386</td>\n",
       "    </tr>\n",
       "    <tr>\n",
       "      <th>map</th>\n",
       "      <th>token</th>\n",
       "      <td>4</td>\n",
       "      <td>4</td>\n",
       "    </tr>\n",
       "    <tr>\n",
       "      <th rowspan=\"4\" valign=\"top\">sample_data</th>\n",
       "      <th>token</th>\n",
       "      <td>2631083</td>\n",
       "      <td>2631083</td>\n",
       "    </tr>\n",
       "    <tr>\n",
       "      <th>sample_token</th>\n",
       "      <td>2631083</td>\n",
       "      <td>34149</td>\n",
       "    </tr>\n",
       "    <tr>\n",
       "      <th>ego_pose_token</th>\n",
       "      <td>2631083</td>\n",
       "      <td>2631083</td>\n",
       "    </tr>\n",
       "    <tr>\n",
       "      <th>calibrated_sensor_token</th>\n",
       "      <td>2631083</td>\n",
       "      <td>10200</td>\n",
       "    </tr>\n",
       "    <tr>\n",
       "      <th>sensor</th>\n",
       "      <th>token</th>\n",
       "      <td>12</td>\n",
       "      <td>12</td>\n",
       "    </tr>\n",
       "    <tr>\n",
       "      <th>attribute</th>\n",
       "      <th>token</th>\n",
       "      <td>8</td>\n",
       "      <td>8</td>\n",
       "    </tr>\n",
       "    <tr>\n",
       "      <th rowspan=\"2\" valign=\"top\">sample</th>\n",
       "      <th>token</th>\n",
       "      <td>34149</td>\n",
       "      <td>34149</td>\n",
       "    </tr>\n",
       "    <tr>\n",
       "      <th>scene_token</th>\n",
       "      <td>34149</td>\n",
       "      <td>850</td>\n",
       "    </tr>\n",
       "    <tr>\n",
       "      <th rowspan=\"4\" valign=\"top\">scene</th>\n",
       "      <th>token</th>\n",
       "      <td>850</td>\n",
       "      <td>850</td>\n",
       "    </tr>\n",
       "    <tr>\n",
       "      <th>log_token</th>\n",
       "      <td>850</td>\n",
       "      <td>68</td>\n",
       "    </tr>\n",
       "    <tr>\n",
       "      <th>first_sample_token</th>\n",
       "      <td>850</td>\n",
       "      <td>850</td>\n",
       "    </tr>\n",
       "    <tr>\n",
       "      <th>last_sample_token</th>\n",
       "      <td>850</td>\n",
       "      <td>850</td>\n",
       "    </tr>\n",
       "    <tr>\n",
       "      <th>ego_pose</th>\n",
       "      <th>token</th>\n",
       "      <td>2631083</td>\n",
       "      <td>2631083</td>\n",
       "    </tr>\n",
       "    <tr>\n",
       "      <th>log</th>\n",
       "      <th>token</th>\n",
       "      <td>68</td>\n",
       "      <td>68</td>\n",
       "    </tr>\n",
       "    <tr>\n",
       "      <th>visibility</th>\n",
       "      <th>token</th>\n",
       "      <td>4</td>\n",
       "      <td>4</td>\n",
       "    </tr>\n",
       "  </tbody>\n",
       "</table>\n",
       "</div>"
      ],
      "text/plain": [
       "                                               num  unique_num\n",
       "calibrated_sensor token                      10200       10200\n",
       "                  sensor_token               10200          12\n",
       "category          token                         23          23\n",
       "sample_annotation token                    1166187     1166187\n",
       "                  sample_token             1166187       34140\n",
       "                  instance_token           1166187       64386\n",
       "                  visibility_token         1166187           4\n",
       "instance          token                      64386       64386\n",
       "                  category_token             64386          23\n",
       "                  first_annotation_token     64386       64386\n",
       "                  last_annotation_token      64386       64386\n",
       "map               token                          4           4\n",
       "sample_data       token                    2631083     2631083\n",
       "                  sample_token             2631083       34149\n",
       "                  ego_pose_token           2631083     2631083\n",
       "                  calibrated_sensor_token  2631083       10200\n",
       "sensor            token                         12          12\n",
       "attribute         token                          8           8\n",
       "sample            token                      34149       34149\n",
       "                  scene_token                34149         850\n",
       "scene             token                        850         850\n",
       "                  log_token                    850          68\n",
       "                  first_sample_token           850         850\n",
       "                  last_sample_token            850         850\n",
       "ego_pose          token                    2631083     2631083\n",
       "log               token                         68          68\n",
       "visibility        token                          4           4"
      ]
     },
     "execution_count": 16,
     "metadata": {},
     "output_type": "execute_result"
    }
   ],
   "source": [
    "df"
   ]
  },
  {
   "cell_type": "code",
   "execution_count": 1,
   "metadata": {},
   "outputs": [
    {
     "name": "stderr",
     "output_type": "stream",
     "text": [
      " 74%|███████▎  | 857421/1166187 [01:39<00:35, 8588.64it/s] \n"
     ]
    },
    {
     "ename": "KeyboardInterrupt",
     "evalue": "",
     "output_type": "error",
     "traceback": [
      "\u001b[0;31m---------------------------------------------------------------------------\u001b[0m",
      "\u001b[0;31mKeyboardInterrupt\u001b[0m                         Traceback (most recent call last)",
      "\u001b[1;32m/home/wsx/practice_code/python/shrink.ipynb Cell 20\u001b[0m line \u001b[0;36m2\n\u001b[1;32m     <a href='vscode-notebook-cell:/home/wsx/practice_code/python/shrink.ipynb#X25sZmlsZQ%3D%3D?line=21'>22</a>\u001b[0m a, b \u001b[39m=\u001b[39m [], []\n\u001b[1;32m     <a href='vscode-notebook-cell:/home/wsx/practice_code/python/shrink.ipynb#X25sZmlsZQ%3D%3D?line=22'>23</a>\u001b[0m \u001b[39mfor\u001b[39;00m item \u001b[39min\u001b[39;00m tqdm(anno):\n\u001b[0;32m---> <a href='vscode-notebook-cell:/home/wsx/practice_code/python/shrink.ipynb#X25sZmlsZQ%3D%3D?line=23'>24</a>\u001b[0m     \u001b[39mif\u001b[39;00m item[\u001b[39m\"\u001b[39;49m\u001b[39msample_token\u001b[39;49m\u001b[39m\"\u001b[39;49m] \u001b[39mnot\u001b[39;49;00m \u001b[39min\u001b[39;49;00m sample_id:\n\u001b[1;32m     <a href='vscode-notebook-cell:/home/wsx/practice_code/python/shrink.ipynb#X25sZmlsZQ%3D%3D?line=24'>25</a>\u001b[0m         a\u001b[39m.\u001b[39mappend(\u001b[39mFalse\u001b[39;00m)\n\u001b[1;32m     <a href='vscode-notebook-cell:/home/wsx/practice_code/python/shrink.ipynb#X25sZmlsZQ%3D%3D?line=25'>26</a>\u001b[0m     \u001b[39melse\u001b[39;00m:\n",
      "\u001b[0;31mKeyboardInterrupt\u001b[0m: "
     ]
    }
   ],
   "source": [
    "import json\n",
    "import os\n",
    "from tqdm import tqdm\n",
    "\n",
    "path = \"/home/wsx/pointcloud_research/data/nuscenes/v1.0-trainval\"\n",
    "path2 = \"tmp/\"\n",
    "\n",
    "anno_p = os.path.join(path, \"sample_annotation.json\")\n",
    "data_p = os.path.join(path, \"sample_data.json\")\n",
    "sample_p = os.path.join(path, \"sample.json\")\n",
    "with open(anno_p) as w:\n",
    "    anno = json.load(w)\n",
    "\n",
    "with open(data_p) as w:\n",
    "    data = json.load(w)\n",
    "\n",
    "with open(sample_p) as w:\n",
    "    sample = json.load(w)\n",
    "\n",
    "sample_id = [i[\"token\"] for i in sample]\n",
    "\n",
    "a, b = [], []\n",
    "# too slow\n",
    "for item in tqdm(anno):\n",
    "    if item[\"sample_token\"] not in sample_id:\n",
    "        a.append(False)\n",
    "    else:\n",
    "        a.append(True)\n",
    "\n",
    "for item in tqdm(data):\n",
    "    if item[\"sample_token\"] not in sample_id:\n",
    "        b.append(False)\n",
    "    else:\n",
    "        b.append(True)\n"
   ]
  },
  {
   "cell_type": "code",
   "execution_count": 4,
   "metadata": {},
   "outputs": [],
   "source": [
    "import numpy as np"
   ]
  },
  {
   "cell_type": "code",
   "execution_count": 7,
   "metadata": {},
   "outputs": [
    {
     "data": {
      "text/plain": [
       "(array([ 736060,  736061,  736062, ..., 1165952, 1165953, 1165954]),)"
      ]
     },
     "execution_count": 7,
     "metadata": {},
     "output_type": "execute_result"
    }
   ],
   "source": [
    "np.where(a == False)"
   ]
  },
  {
   "cell_type": "markdown",
   "metadata": {},
   "source": [
    "### Given an array, how to find True blocks?"
   ]
  },
  {
   "cell_type": "code",
   "execution_count": 39,
   "metadata": {},
   "outputs": [],
   "source": [
    "def find_pieces(arr):\n",
    "    re = []\n",
    "    n = len(arr)\n",
    "    e = 0\n",
    "    for i in tqdm(range(n)):\n",
    "        if i < e:\n",
    "            continue\n",
    "        if arr[i]:\n",
    "            s = i\n",
    "            e = i\n",
    "            while e<n and arr[e]:\n",
    "                e += 1\n",
    "            print((s, e))\n",
    "\n",
    "            re.append([s, e])\n",
    "\n",
    "    return re\n",
    "\n"
   ]
  },
  {
   "cell_type": "code",
   "execution_count": 40,
   "metadata": {},
   "outputs": [
    {
     "name": "stderr",
     "output_type": "stream",
     "text": [
      " 15%|█▍        | 169114/1166187 [00:00<00:01, 913312.35it/s]"
     ]
    },
    {
     "name": "stdout",
     "output_type": "stream",
     "text": [
      "(0, 736060)\n"
     ]
    },
    {
     "name": "stderr",
     "output_type": "stream",
     "text": [
      "100%|██████████| 1166187/1166187 [00:00<00:00, 1865195.51it/s]"
     ]
    },
    {
     "name": "stdout",
     "output_type": "stream",
     "text": [
      "(1165955, 1166187)\n"
     ]
    },
    {
     "name": "stderr",
     "output_type": "stream",
     "text": [
      "\n"
     ]
    },
    {
     "data": {
      "text/plain": [
       "[[0, 736060], [1165955, 1166187]]"
      ]
     },
     "execution_count": 40,
     "metadata": {},
     "output_type": "execute_result"
    }
   ],
   "source": [
    "find_pieces(a)"
   ]
  },
  {
   "cell_type": "code",
   "execution_count": 1,
   "metadata": {},
   "outputs": [],
   "source": [
    "import os\n",
    "import json\n",
    "import pickle"
   ]
  },
  {
   "cell_type": "code",
   "execution_count": 2,
   "metadata": {},
   "outputs": [],
   "source": [
    "path = \"/home/wsx/pointcloud_research/mmdetection3d/data/nuscenes/\""
   ]
  },
  {
   "cell_type": "code",
   "execution_count": 3,
   "metadata": {},
   "outputs": [
    {
     "data": {
      "text/plain": [
       "['sweeps',\n",
       " 'nuscenes_infos_val.pkl',\n",
       " 'nuscenes_gt_database',\n",
       " 'maps',\n",
       " 'tmp',\n",
       " 'nuscenes_infos_test.pkl',\n",
       " 'samples',\n",
       " 'v1.0-trainval',\n",
       " 'v1.0-test',\n",
       " 'nuscenes_infos_train.pkl',\n",
       " 'nuscenes_dbinfos_train.pkl']"
      ]
     },
     "execution_count": 3,
     "metadata": {},
     "output_type": "execute_result"
    }
   ],
   "source": [
    "os.listdir(path)"
   ]
  },
  {
   "cell_type": "code",
   "execution_count": 4,
   "metadata": {},
   "outputs": [
    {
     "data": {
      "text/plain": [
       "['sweeps',\n",
       " 'nuscenes_infos_val.pkl',\n",
       " 'nuscenes_gt_database',\n",
       " 'maps',\n",
       " 'tmp',\n",
       " 'nuscenes_infos_test.pkl',\n",
       " 'samples',\n",
       " 'v1.0-trainval',\n",
       " 'v1.0-test',\n",
       " 'nuscenes_infos_train.pkl',\n",
       " 'nuscenes_dbinfos_train.pkl']"
      ]
     },
     "execution_count": 4,
     "metadata": {},
     "output_type": "execute_result"
    }
   ],
   "source": [
    "os.listdir(path)"
   ]
  },
  {
   "cell_type": "code",
   "execution_count": 5,
   "metadata": {},
   "outputs": [],
   "source": [
    "fn = 'nuscenes_dbinfos_train.pkl'\n",
    "with open(os.path.join(path, fn), 'rb') as f:\n",
    "    a = pickle.load(f)"
   ]
  },
  {
   "cell_type": "code",
   "execution_count": 6,
   "metadata": {},
   "outputs": [
    {
     "data": {
      "text/plain": [
       "dict_keys(['traffic_cone', 'truck', 'car', 'pedestrian', 'barrier', 'construction_vehicle', 'motorcycle', 'bicycle', 'bus', 'trailer'])"
      ]
     },
     "execution_count": 6,
     "metadata": {},
     "output_type": "execute_result"
    }
   ],
   "source": [
    "a.keys()"
   ]
  },
  {
   "cell_type": "code",
   "execution_count": 28,
   "metadata": {},
   "outputs": [],
   "source": [
    "with open(fn, 'wb') as f:\n",
    "    pickle.dump(a, f)"
   ]
  },
  {
   "cell_type": "code",
   "execution_count": 9,
   "metadata": {},
   "outputs": [
    {
     "name": "stdout",
     "output_type": "stream",
     "text": [
      "62964\n",
      "65262\n",
      "339949\n",
      "161928\n",
      "133804\n",
      "11050\n",
      "8846\n",
      "8185\n",
      "12286\n",
      "19202\n"
     ]
    }
   ],
   "source": [
    "for k in a.keys():\n",
    "    print(len(a[k]))"
   ]
  },
  {
   "cell_type": "code",
   "execution_count": null,
   "metadata": {},
   "outputs": [],
   "source": []
  }
 ],
 "metadata": {
  "kernelspec": {
   "display_name": "det3d",
   "language": "python",
   "name": "python3"
  },
  "language_info": {
   "codemirror_mode": {
    "name": "ipython",
    "version": 3
   },
   "file_extension": ".py",
   "mimetype": "text/x-python",
   "name": "python",
   "nbconvert_exporter": "python",
   "pygments_lexer": "ipython3",
   "version": "3.8.18"
  },
  "orig_nbformat": 4
 },
 "nbformat": 4,
 "nbformat_minor": 2
}
