{
 "cells": [
  {
   "cell_type": "code",
   "execution_count": 2,
   "metadata": {},
   "outputs": [],
   "source": [
    "import pickle\n",
    "import os\n",
    "import numpy as np\n",
    "import cv2"
   ]
  },
  {
   "cell_type": "code",
   "execution_count": 3,
   "metadata": {},
   "outputs": [],
   "source": [
    "dp = \"/home/wsx/pointcloud_research/data/nuscenes/tmp\""
   ]
  },
  {
   "cell_type": "code",
   "execution_count": 4,
   "metadata": {},
   "outputs": [],
   "source": [
    "# nuscenes_infos_val.pkl\n",
    "# nuscenes_infos_test.pkl\n",
    "# nuscenes_infos_train.pkl\n",
    "# nuscenes_dbinfos_train.pkl"
   ]
  },
  {
   "cell_type": "code",
   "execution_count": 5,
   "metadata": {},
   "outputs": [],
   "source": [
    "with open(os.path.join(dp, \"nuscenes_infos_train.pkl\"), 'rb') as f:\n",
    "    file = pickle.load(f)"
   ]
  },
  {
   "cell_type": "code",
   "execution_count": 6,
   "metadata": {},
   "outputs": [],
   "source": [
    "metainfo = file[\"metainfo\"]\n",
    "data_list = file[\"data_list\"]"
   ]
  },
  {
   "cell_type": "code",
   "execution_count": 7,
   "metadata": {},
   "outputs": [],
   "source": [
    "# 'car': 0,\n",
    "# 'truck': 1,\n",
    "# 'trailer': 2,\n",
    "# 'bus': 3,\n",
    "# 'construction_vehicle': 4,\n",
    "# 'bicycle': 5,\n",
    "# 'motorcycle': 6,\n",
    "# 'pedestrian': 7,\n",
    "# 'traffic_cone': 8,\n",
    "# 'barrier': 9"
   ]
  },
  {
   "cell_type": "code",
   "execution_count": 21,
   "metadata": {},
   "outputs": [],
   "source": [
    "# categories\n",
    "# dataset\n",
    "# version\n",
    "# info_version"
   ]
  },
  {
   "cell_type": "code",
   "execution_count": 23,
   "metadata": {},
   "outputs": [],
   "source": [
    "# sample_idx\n",
    "# token\n",
    "# timestamp\n",
    "# ego2global\n",
    "# images\n",
    "# lidar_points\n",
    "# instances\n",
    "# cam_instances"
   ]
  },
  {
   "cell_type": "code",
   "execution_count": 8,
   "metadata": {},
   "outputs": [
    {
     "data": {
      "text/plain": [
       "{'num_pts_feats': 5,\n",
       " 'lidar_path': 'n015-2018-07-18-11-07-57+0800__LIDAR_TOP__1531883530449377.pcd.bin',\n",
       " 'lidar2ego': [[0.0020332718268036842,\n",
       "   0.9997040629386902,\n",
       "   0.024241721257567406,\n",
       "   0.9437130093574524],\n",
       "  [-0.9999805092811584, 0.0021756570786237717, -0.00584863917902112, 0.0],\n",
       "  [-0.005899650044739246,\n",
       "   -0.02422935888171196,\n",
       "   0.9996890425682068,\n",
       "   1.8402299880981445],\n",
       "  [0.0, 0.0, 0.0, 1.0]]}"
      ]
     },
     "execution_count": 8,
     "metadata": {},
     "output_type": "execute_result"
    }
   ],
   "source": [
    "data_list[0][\"lidar_points\"]"
   ]
  },
  {
   "cell_type": "code",
   "execution_count": 7,
   "metadata": {},
   "outputs": [
    {
     "data": {
      "text/plain": [
       "{'CAM_FRONT': {'img_path': 'n015-2018-07-18-11-07-57+0800__CAM_FRONT__1531883530412470.jpg',\n",
       "  'cam2img': [[1266.417203046554, 0.0, 816.2670197447984],\n",
       "   [0.0, 1266.417203046554, 491.50706579294757],\n",
       "   [0.0, 0.0, 1.0]],\n",
       "  'cam2ego': [[0.005684778559952974,\n",
       "    -0.005636667832732201,\n",
       "    0.9999679327011108,\n",
       "    1.7007912397384644],\n",
       "   [-0.9999834895133972,\n",
       "    -0.0008371152798645198,\n",
       "    0.0056801484897732735,\n",
       "    0.01594563201069832],\n",
       "   [0.000805071322247386,\n",
       "    -0.9999837875366211,\n",
       "    -0.005641333758831024,\n",
       "    1.5109575986862183],\n",
       "   [0.0, 0.0, 0.0, 1.0]],\n",
       "  'sample_data_token': '020d7b4f858147558106c504f7f31bef',\n",
       "  'timestamp': 1531883530.41247,\n",
       "  'lidar2cam': [[0.999950110912323,\n",
       "    -0.006949238944798708,\n",
       "    0.007174408063292503,\n",
       "    0.005730343982577324],\n",
       "   [0.007305425126105547,\n",
       "    0.019015269353985786,\n",
       "    -0.9997925162315369,\n",
       "    -0.321853369474411],\n",
       "   [0.0068113734014332294,\n",
       "    0.9997950196266174,\n",
       "    0.019065087661147118,\n",
       "    -0.6021451950073242],\n",
       "   [0.0, 0.0, 0.0, 1.0]]},\n",
       " 'CAM_FRONT_RIGHT': {'img_path': 'n015-2018-07-18-11-07-57+0800__CAM_FRONT_RIGHT__1531883530420339.jpg',\n",
       "  'cam2img': [[1260.8474446004698, 0.0, 807.968244525554],\n",
       "   [0.0, 1260.8474446004698, 495.3344268742088],\n",
       "   [0.0, 0.0, 1.0]],\n",
       "  'cam2ego': [[-0.8329295516014099,\n",
       "    -9.94603760773316e-06,\n",
       "    0.5533789992332458,\n",
       "    1.5508477687835693],\n",
       "   [-0.55330491065979,\n",
       "    0.016378816217184067,\n",
       "    -0.8328177332878113,\n",
       "    -0.4934048056602478],\n",
       "   [-0.009055409580469131,\n",
       "    -0.9998658299446106,\n",
       "    -0.013647902756929398,\n",
       "    1.4957480430603027],\n",
       "   [0.0, 0.0, 0.0, 1.0]],\n",
       "  'sample_data_token': '16d39ff22a8545b0a4ee3236a0fe1c20',\n",
       "  'timestamp': 1531883530.420339,\n",
       "  'lidar2cam': [[0.5447326898574829,\n",
       "    -0.8382006287574768,\n",
       "    -0.026190951466560364,\n",
       "    0.1229320764541626],\n",
       "   [-0.010019240900874138,\n",
       "    0.02472417615354061,\n",
       "    -0.9996441006660461,\n",
       "    -0.3330855071544647],\n",
       "   [0.8385498523712158,\n",
       "    0.5448012351989746,\n",
       "    0.005069933366030455,\n",
       "    -0.6873264908790588],\n",
       "   [0.0, 0.0, 0.0, 1.0]]},\n",
       " 'CAM_FRONT_LEFT': {'img_path': 'n015-2018-07-18-11-07-57+0800__CAM_FRONT_LEFT__1531883530404844.jpg',\n",
       "  'cam2img': [[1272.5979470598488, 0.0, 826.6154927353808],\n",
       "   [0.0, 1272.5979470598488, 479.75165386361925],\n",
       "   [0.0, 0.0, 1.0]],\n",
       "  'cam2ego': [[0.8207583427429199,\n",
       "    -0.00034143668017350137,\n",
       "    0.5712754130363464,\n",
       "    1.5238779783248901],\n",
       "   [-0.5712715983390808,\n",
       "    0.0032195018138736486,\n",
       "    0.8207547664642334,\n",
       "    0.4946313500404358],\n",
       "   [-0.002119458047673106,\n",
       "    -0.9999947547912598,\n",
       "    0.0024473799858242273,\n",
       "    1.5093282461166382],\n",
       "   [0.0, 0.0, 0.0, 1.0]],\n",
       "  'sample_data_token': '24332e9c554a406f880430f17771b608',\n",
       "  'timestamp': 1531883530.404844,\n",
       "  'lidar2cam': [[0.5831289291381836,\n",
       "    0.8120843172073364,\n",
       "    0.02190271019935608,\n",
       "    -0.04473946616053581],\n",
       "   [0.0034885560162365437,\n",
       "    0.024457741528749466,\n",
       "    -0.9996947646141052,\n",
       "    -0.3274805545806885],\n",
       "   [-0.812372088432312,\n",
       "    0.5830273628234863,\n",
       "    0.011429015547037125,\n",
       "    -0.6220613121986389],\n",
       "   [0.0, 0.0, 0.0, 1.0]]},\n",
       " 'CAM_BACK': {'img_path': 'n015-2018-07-18-11-07-57+0800__CAM_BACK__1531883530437525.jpg',\n",
       "  'cam2img': [[809.2209905677063, 0.0, 829.2196003259838],\n",
       "   [0.0, 809.2209905677063, 481.77842384512485],\n",
       "   [0.0, 0.0, 1.0]],\n",
       "  'cam2ego': [[0.002421709941700101,\n",
       "    -0.016753608360886574,\n",
       "    -0.99985671043396,\n",
       "    0.02832603082060814],\n",
       "   [0.9999890923500061,\n",
       "    -0.0039591072127223015,\n",
       "    0.0024883693549782038,\n",
       "    0.0034513676073402166],\n",
       "   [-0.004000229295343161,\n",
       "    -0.9998518228530884,\n",
       "    0.016743836924433708,\n",
       "    1.5791034698486328],\n",
       "   [0.0, 0.0, 0.0, 1.0]],\n",
       "  'sample_data_token': 'aab35aeccbda42de82b2ff5c278a0d48',\n",
       "  'timestamp': 1531883530.437525,\n",
       "  'lidar2cam': [[-0.9999136328697205,\n",
       "    0.008133400231599808,\n",
       "    -0.010322795249521732,\n",
       "    -0.0007442040950991213],\n",
       "   [0.010384265333414078,\n",
       "    0.007552133407443762,\n",
       "    -0.9999175667762756,\n",
       "    -0.2760153114795685],\n",
       "   [-0.008054770529270172,\n",
       "    -0.999938428401947,\n",
       "    -0.007635940331965685,\n",
       "    -0.9622107744216919],\n",
       "   [0.0, 0.0, 0.0, 1.0]]},\n",
       " 'CAM_BACK_LEFT': {'img_path': 'n015-2018-07-18-11-07-57+0800__CAM_BACK_LEFT__1531883530447423.jpg',\n",
       "  'cam2img': [[1256.7414812095406, 0.0, 792.1125740759628],\n",
       "   [0.0, 1256.7414812095406, 492.7757465151356],\n",
       "   [0.0, 0.0, 1.0]],\n",
       "  'cam2ego': [[0.9477603435516357,\n",
       "    0.008665721863508224,\n",
       "    -0.31886550784111023,\n",
       "    1.0356910228729248],\n",
       "   [0.31896114349365234,\n",
       "    -0.01397630013525486,\n",
       "    0.947664737701416,\n",
       "    0.4847950339317322],\n",
       "   [0.0037556388415396214,\n",
       "    -0.9998647570610046,\n",
       "    -0.016010211780667305,\n",
       "    1.5909701585769653],\n",
       "   [0.0, 0.0, 0.0, 1.0]],\n",
       "  'sample_data_token': '86e6806d626b4711a6d0f5015b090116',\n",
       "  'timestamp': 1531883530.447423,\n",
       "  'lidar2cam': [[-0.3165133595466614,\n",
       "    0.9482632875442505,\n",
       "    0.02482030726969242,\n",
       "    -0.23283082246780396],\n",
       "   [0.020132387056946754,\n",
       "    0.03287486359477043,\n",
       "    -0.9992566704750061,\n",
       "    -0.24295853078365326],\n",
       "   [-0.9483743906021118,\n",
       "    -0.31577837467193604,\n",
       "    -0.02949613705277443,\n",
       "    -0.4368051588535309],\n",
       "   [0.0, 0.0, 0.0, 1.0]]},\n",
       " 'CAM_BACK_RIGHT': {'img_path': 'n015-2018-07-18-11-07-57+0800__CAM_BACK_RIGHT__1531883530427893.jpg',\n",
       "  'cam2img': [[1259.5137405846733, 0.0, 807.2529053838625],\n",
       "   [0.0, 1259.5137405846733, 501.19579884916527],\n",
       "   [0.0, 0.0, 1.0]],\n",
       "  'cam2ego': [[-0.9347755312919617,\n",
       "    0.015875838696956635,\n",
       "    -0.35488399863243103,\n",
       "    1.0148781538009644],\n",
       "   [0.35507455468177795,\n",
       "    0.011370494961738586,\n",
       "    -0.9347688555717468,\n",
       "    -0.4805682301521301],\n",
       "   [-0.010805031284689903,\n",
       "    -0.9998093247413635,\n",
       "    -0.01626596786081791,\n",
       "    1.562395453453064],\n",
       "   [0.0, 0.0, 0.0, 1.0]],\n",
       "  'sample_data_token': 'ec7096278e484c9ebe6894a2ad5682e9',\n",
       "  'timestamp': 1531883530.427893,\n",
       "  'lidar2cam': [[-0.36268681287765503,\n",
       "    -0.9312160611152649,\n",
       "    -0.0359853133559227,\n",
       "    0.14839687943458557],\n",
       "   [-0.004622284788638353,\n",
       "    0.04041164740920067,\n",
       "    -0.9991724491119385,\n",
       "    -0.26959535479545593],\n",
       "   [0.9318996071815491,\n",
       "    -0.3622203469276428,\n",
       "    -0.018961116671562195,\n",
       "    -0.46460071206092834],\n",
       "   [0.0, 0.0, 0.0, 1.0]]}}"
      ]
     },
     "execution_count": 7,
     "metadata": {},
     "output_type": "execute_result"
    }
   ],
   "source": [
    "data_list[0][\"images\"]"
   ]
  },
  {
   "cell_type": "code",
   "execution_count": 7,
   "metadata": {},
   "outputs": [],
   "source": [
    "cameraloc = data_list[0][\"images\"].keys()"
   ]
  },
  {
   "cell_type": "code",
   "execution_count": 8,
   "metadata": {},
   "outputs": [
    {
     "data": {
      "text/plain": [
       "dict_keys(['CAM_FRONT', 'CAM_FRONT_RIGHT', 'CAM_FRONT_LEFT', 'CAM_BACK', 'CAM_BACK_LEFT', 'CAM_BACK_RIGHT'])"
      ]
     },
     "execution_count": 8,
     "metadata": {},
     "output_type": "execute_result"
    }
   ],
   "source": [
    "cameraloc"
   ]
  },
  {
   "cell_type": "code",
   "execution_count": 38,
   "metadata": {},
   "outputs": [],
   "source": [
    "imgdp = \"/home/wsx/pointcloud_research/data/nuscenes/samples\"\n",
    "for i in range(len(data_list)):\n",
    "    imgs = []\n",
    "    for filename in cameraloc:\n",
    "        imgname = data_list[i][\"images\"][filename][\"img_path\"]\n",
    "        imgs.append(cv2.imread(os.path.join(imgdp, f\"{filename}/{imgname}\")))\n",
    "    Hori1 = np.concatenate((imgs[2], imgs[0], imgs[1]), axis=1)\n",
    "    Hori2 = np.concatenate((imgs[5], imgs[3], imgs[4]), axis=1)\n",
    "    img = np.concatenate((Hori1, Hori2), axis=0)\n",
    "    img = cv2.resize(img, (1600, 800))\n",
    "    cv2.imshow(\"image\", img)\n",
    "    if cv2.waitKey(25) & 0xFF == ord('q'):\n",
    "        break\n",
    "cv2.destroyAllWindows()\n"
   ]
  },
  {
   "cell_type": "code",
   "execution_count": 32,
   "metadata": {},
   "outputs": [],
   "source": []
  },
  {
   "cell_type": "code",
   "execution_count": 5,
   "metadata": {},
   "outputs": [
    {
     "data": {
      "text/plain": [
       "{'num_pts_feats': 5,\n",
       " 'lidar_path': 'n015-2018-07-18-11-07-57+0800__LIDAR_TOP__1531883530449377.pcd.bin',\n",
       " 'lidar2ego': [[0.0020332718268036842,\n",
       "   0.9997040629386902,\n",
       "   0.024241721257567406,\n",
       "   0.9437130093574524],\n",
       "  [-0.9999805092811584, 0.0021756570786237717, -0.00584863917902112, 0.0],\n",
       "  [-0.005899650044739246,\n",
       "   -0.02422935888171196,\n",
       "   0.9996890425682068,\n",
       "   1.8402299880981445],\n",
       "  [0.0, 0.0, 0.0, 1.0]]}"
      ]
     },
     "execution_count": 5,
     "metadata": {},
     "output_type": "execute_result"
    }
   ],
   "source": [
    "data_list[0][\"lidar_points\"]"
   ]
  },
  {
   "cell_type": "code",
   "execution_count": 30,
   "metadata": {},
   "outputs": [],
   "source": [
    "# # intances\n",
    "# bbox_label\n",
    "# bbox_3d\n",
    "# bbox_3d_isvalid\n",
    "# bbox_label_3d\n",
    "# num_lidar_pts\n",
    "# num_radar_pts\n",
    "# velocity"
   ]
  },
  {
   "cell_type": "code",
   "execution_count": 6,
   "metadata": {},
   "outputs": [],
   "source": [
    "# write anno file\n",
    "ap = \"/home/wsx/pointcloud_research/data/nuscenes/anno_cplus/\"\n",
    "\n",
    "for item in data_list:\n",
    "    fp = item[\"lidar_points\"][\"lidar_path\"] + \".txt\"\n",
    "    with open(os.path.join(ap, fp), 'w') as f:\n",
    "        for i in item[\"instances\"]:\n",
    "            f.write(str(i[\"bbox_label\"])+\" \")\n",
    "            for j in i[\"bbox_3d\"]:\n",
    "                j = round(j, 2)\n",
    "                f.write(str(j) + \" \")\n",
    "            f.write(\"\\n\")"
   ]
  },
  {
   "cell_type": "code",
   "execution_count": 39,
   "metadata": {},
   "outputs": [],
   "source": [
    "colors = np.array(\n",
    "    [[1.0, 0., 0.],\n",
    "    [0, 1, 0],\n",
    "    [0., 0., 1.],\n",
    "    [1, 1, 0],\n",
    "    [1., 0, 1],\n",
    "    [0., 1., 1.],\n",
    "    [0.3, 0, 0],\n",
    "    [0., 0.3, 0.],\n",
    "    [0, 0., 0.3],\n",
    "    [0.3, 0.3 , 0]]\n",
    ")"
   ]
  },
  {
   "cell_type": "code",
   "execution_count": 5,
   "metadata": {},
   "outputs": [],
   "source": [
    "import matplotlib.pyplot as plt\n",
    "from matplotlib.patches import Rectangle"
   ]
  },
  {
   "cell_type": "code",
   "execution_count": 11,
   "metadata": {},
   "outputs": [],
   "source": [
    "c = metainfo[\"categories\"]"
   ]
  },
  {
   "cell_type": "code",
   "execution_count": 12,
   "metadata": {},
   "outputs": [
    {
     "name": "stdout",
     "output_type": "stream",
     "text": [
      "('car', 0)\n",
      "('truck', 1)\n",
      "('trailer', 2)\n",
      "('bus', 3)\n",
      "('construction_vehicle', 4)\n",
      "('bicycle', 5)\n",
      "('motorcycle', 6)\n",
      "('pedestrian', 7)\n",
      "('traffic_cone', 8)\n",
      "('barrier', 9)\n"
     ]
    }
   ],
   "source": [
    "for i in c.items():\n",
    "    print(i)"
   ]
  },
  {
   "cell_type": "code",
   "execution_count": 40,
   "metadata": {},
   "outputs": [
    {
     "data": {
      "image/png": "[encoded data removed]",
      "text/plain": [
       "<Figure size 640x480 with 1 Axes>"
      ]
     },
     "metadata": {},
     "output_type": "display_data"
    }
   ],
   "source": [
    "fig, ax = plt.subplots()\n",
    "ax.set_xlim([0, 19])\n",
    "ax.set_ylim([0, 12])\n",
    "step = 2\n",
    "loc = np.array((2, 10))\n",
    "for name, i in c.items():\n",
    "    if i < 5:\n",
    "        pos = (loc[0], loc[1]-step*i)\n",
    "    else:\n",
    "        pos = (loc[0]+9, loc[1]-step*(i-5))\n",
    "    ax.add_patch(Rectangle(pos, 1, 0.5, color=colors[i]))\n",
    "    ax.text(pos[0]+2, pos[1], f\"{i}. {name}\")\n",
    "    ax.set_xticks([])\n",
    "    ax.set_yticks([])\n",
    "plt.savefig(\"color_tables.png\")\n",
    "plt.show()\n"
   ]
  },
  {
   "cell_type": "code",
   "execution_count": null,
   "metadata": {},
   "outputs": [],
   "source": []
  }
 ],
 "metadata": {
  "kernelspec": {
   "display_name": "dl",
   "language": "python",
   "name": "python3"
  },
  "language_info": {
   "codemirror_mode": {
    "name": "ipython",
    "version": 3
   },
   "file_extension": ".py",
   "mimetype": "text/x-python",
   "name": "python",
   "nbconvert_exporter": "python",
   "pygments_lexer": "ipython3",
   "version": "3.8.18"
  }
 },
 "nbformat": 4,
 "nbformat_minor": 2
}
